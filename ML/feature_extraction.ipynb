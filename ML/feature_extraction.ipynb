{
 "cells": [
  {
   "cell_type": "code",
   "execution_count": 2,
   "id": "c9548865",
   "metadata": {},
   "outputs": [],
   "source": [
    "import librosa\n",
    "import numpy as np"
   ]
  },
  {
   "cell_type": "code",
   "execution_count": 3,
   "id": "f52b8a59",
   "metadata": {},
   "outputs": [],
   "source": [
    "'''\n",
    ">>> Açıklama\n",
    ">>> --------\n",
    ">>> Bu fonksiyon ile ses dosyalarından öznitelik çıkarılır.\n",
    ">>> Öznitelik çıkarımı için MFCC kullanılır.\n",
    ">>> MFCC'lerin delta ve delta2'leri de hesaplanır.\n",
    ">>> Son olarak bu değerler birleştirilir ve geri döndürülür.\n",
    "'''\n",
    "def feature_extraction(audio, rate):\n",
    "    mfccs = librosa.feature.mfcc(y=audio, sr=rate, n_mfcc=13)\n",
    "    delta_mfccs = librosa.feature.delta(mfccs)\n",
    "    delta2_mfccs = librosa.feature.delta(mfccs, order=2)\n",
    "    comph_mfccs = np.concatenate((mfccs, delta_mfccs, delta2_mfccs))\n",
    "    return comph_mfccs"
   ]
  }
 ],
 "metadata": {
  "kernelspec": {
   "display_name": "Python 3 (ipykernel)",
   "language": "python",
   "name": "python3"
  },
  "language_info": {
   "codemirror_mode": {
    "name": "ipython",
    "version": 3
   },
   "file_extension": ".py",
   "mimetype": "text/x-python",
   "name": "python",
   "nbconvert_exporter": "python",
   "pygments_lexer": "ipython3",
   "version": "3.9.12"
  }
 },
 "nbformat": 4,
 "nbformat_minor": 5
}
